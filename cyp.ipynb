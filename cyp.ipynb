{
  "nbformat": 4,
  "nbformat_minor": 0,
  "metadata": {
    "colab": {
      "name": "cyp.ipynb",
      "provenance": [],
      "authorship_tag": "ABX9TyNIGC6PydlHYOChmSEXTNxP",
      "include_colab_link": true
    },
    "kernelspec": {
      "name": "python3",
      "display_name": "Python 3"
    },
    "language_info": {
      "name": "python"
    }
  },
  "cells": [
    {
      "cell_type": "markdown",
      "metadata": {
        "id": "view-in-github",
        "colab_type": "text"
      },
      "source": [
        "<a href=\"https://colab.research.google.com/github/MauricioAbadRangel/CyP2311/blob/main/cyp.ipynb\" target=\"_parent\"><img src=\"https://colab.research.google.com/assets/colab-badge.svg\" alt=\"Open In Colab\"/></a>"
      ]
    },
    {
      "cell_type": "code",
      "metadata": {
        "colab": {
          "base_uri": "https://localhost:8080/"
        },
        "id": "rKFHL8K19NXA",
        "outputId": "79735739-8582-4e8c-9e54-91c1889ed191"
      },
      "source": [
        "A = int(input(\"Introduce un numero: \"))\n",
        "B = int(input(\"Introduce otro numero: \"))\n",
        "C = int(input(\"Introduce otro numero: \"))\n",
        "\n",
        "if A>B and B>C:\n",
        "    print(\"Los numeros ordenados de mayor a menor son los sig: \", A,B,C)\n",
        "elif A>C and C>B:\n",
        "    print(\"Los numeros ordenados de mayor a menor son los sig: \", A,C,B)\n",
        "elif B>A and A>C:\n",
        "    print(\"Los numeros ordenados de mayor a menor son los sig: \", B,A,C)\n",
        "elif C>A and A>B:\n",
        "    print(\"Los numeros ordenados de mayor a menor son los sig: \", C,A,B)\n",
        "elif C>B and B>A:\n",
        "    print(\"Los numeros ordenados de mayor a menor son los sig: \", C,B,A)\n",
        "elif B>C and C>A:\n",
        "    print(\"Los numeros ordenados de mayor a menor son los sig: \", B,C,A)"
      ],
      "execution_count": 1,
      "outputs": [
        {
          "output_type": "stream",
          "name": "stdout",
          "text": [
            "Introduce un numero: 5\n",
            "Introduce otro numero: 4\n",
            "Introduce otro numero: 1\n",
            "Los numeros ordenados de mayor a menor son los sig:  5 4 1\n"
          ]
        }
      ]
    }
  ]
}